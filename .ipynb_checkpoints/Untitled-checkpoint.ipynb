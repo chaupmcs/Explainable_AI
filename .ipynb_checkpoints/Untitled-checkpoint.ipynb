{
 "cells": [
  {
   "cell_type": "code",
   "execution_count": 24,
   "metadata": {},
   "outputs": [],
   "source": [
    "from keras import regularizers\n",
    "from keras.models import Sequential\n",
    "from keras.layers import LSTM\n",
    "from keras.layers import Dense\n",
    "from keras.layers import Activation\n",
    "from keras.layers import Dropout\n",
    "from keras.layers import Flatten\n",
    "from keras.optimizers import Adam\n",
    "import pandas as pd\n",
    "import numpy as np\n",
    "\n",
    "def createModel(l1Nodes, l2Nodes, d1Nodes, d2Nodes, inputShape):\n",
    "    # input layer\n",
    "    lstm1 = LSTM(l1Nodes, input_shape=inputShape, return_sequences=True)\n",
    "    lstm2 = LSTM(l2Nodes, return_sequences=True)\n",
    "    flatten = Flatten()\n",
    "    dense1 = Dense(d1Nodes)\n",
    "    dense2 = Dense(d2Nodes)\n",
    "\n",
    "    # output layer\n",
    "#     outL = Dense(1, activation='relu')\n",
    "    outL = Dense(1)\n",
    "    # combine the layers\n",
    "    layers = [lstm1, lstm2, flatten,  dense1, dense2, outL]\n",
    "    # create the model\n",
    "    model = Sequential(layers)\n",
    "    opt = Adam(learning_rate=0.005)\n",
    "    model.compile(optimizer=opt, loss='mse')\n",
    "    return model"
   ]
  },
  {
   "cell_type": "code",
   "execution_count": 25,
   "metadata": {},
   "outputs": [],
   "source": [
    "with open(\"/Users/chau/minhchau/SHAP and VCNN/data/X_train_HPCC_1_20_312.json\") as of:\n",
    "    X_train = np.array(json.load(of))\n",
    "with open(\"/Users/chau/minhchau/SHAP and VCNN/data/y_train_HPCC_1_20_312.json\") as of:\n",
    "    y_train = np.array(json.load(of))\n",
    "with open(\"/Users/chau/minhchau/SHAP and VCNN/data/X_test_HPCC_1_20_312.json\") as of:\n",
    "    X_test = np.array(json.load(of))\n",
    "with open(\"/Users/chau/minhchau/SHAP and VCNN/data/y_test_HPCC_1_20_312.json\") as of:\n",
    "    y_test = np.array(json.load(of))    "
   ]
  },
  {
   "cell_type": "code",
   "execution_count": 26,
   "metadata": {
    "scrolled": false
   },
   "outputs": [
    {
     "name": "stdout",
     "output_type": "stream",
     "text": [
      "WARNING:tensorflow:From /Users/chau/opt/anaconda3/envs/py37_env/lib/python3.7/site-packages/keras/backend/tensorflow_backend.py:422: The name tf.global_variables is deprecated. Please use tf.compat.v1.global_variables instead.\n",
      "\n",
      "Epoch 1/30\n",
      "312/312 [==============================] - 1s 5ms/step - loss: 1937.2303\n",
      "Epoch 2/30\n",
      "312/312 [==============================] - 0s 2ms/step - loss: 93.6125\n",
      "Epoch 3/30\n",
      "312/312 [==============================] - 0s 2ms/step - loss: 30.9424\n",
      "Epoch 4/30\n",
      "312/312 [==============================] - 1s 2ms/step - loss: 26.1441\n",
      "Epoch 5/30\n",
      "312/312 [==============================] - 1s 2ms/step - loss: 20.1000\n",
      "Epoch 6/30\n",
      "312/312 [==============================] - 0s 2ms/step - loss: 16.5114\n",
      "Epoch 7/30\n",
      "312/312 [==============================] - 0s 2ms/step - loss: 12.9859\n",
      "Epoch 8/30\n",
      "312/312 [==============================] - 1s 2ms/step - loss: 10.4562\n",
      "Epoch 9/30\n",
      "312/312 [==============================] - 1s 2ms/step - loss: 8.4011\n",
      "Epoch 10/30\n",
      "312/312 [==============================] - 0s 2ms/step - loss: 5.3138\n",
      "Epoch 11/30\n",
      "312/312 [==============================] - 1s 2ms/step - loss: 3.5234\n",
      "Epoch 12/30\n",
      "312/312 [==============================] - 0s 1ms/step - loss: 2.8586\n",
      "Epoch 13/30\n",
      "312/312 [==============================] - 0s 2ms/step - loss: 2.1916\n",
      "Epoch 14/30\n",
      "312/312 [==============================] - 0s 1ms/step - loss: 1.9643\n",
      "Epoch 15/30\n",
      "312/312 [==============================] - 1s 2ms/step - loss: 1.9291\n",
      "Epoch 16/30\n",
      "312/312 [==============================] - 0s 2ms/step - loss: 1.6150\n",
      "Epoch 17/30\n",
      "312/312 [==============================] - 0s 2ms/step - loss: 1.2210\n",
      "Epoch 18/30\n",
      "312/312 [==============================] - 0s 2ms/step - loss: 1.1220\n",
      "Epoch 19/30\n",
      "312/312 [==============================] - 0s 1ms/step - loss: 1.3879\n",
      "Epoch 20/30\n",
      "312/312 [==============================] - 0s 1ms/step - loss: 1.4437\n",
      "Epoch 21/30\n",
      "312/312 [==============================] - 0s 2ms/step - loss: 0.9173\n",
      "Epoch 22/30\n",
      "312/312 [==============================] - 1s 2ms/step - loss: 0.8246\n",
      "Epoch 23/30\n",
      "312/312 [==============================] - 0s 1ms/step - loss: 0.8942\n",
      "Epoch 24/30\n",
      "312/312 [==============================] - 0s 2ms/step - loss: 1.1878\n",
      "Epoch 25/30\n",
      "312/312 [==============================] - 0s 1ms/step - loss: 0.9814\n",
      "Epoch 26/30\n",
      "312/312 [==============================] - 0s 1ms/step - loss: 0.8570\n",
      "Epoch 27/30\n",
      "312/312 [==============================] - 0s 1ms/step - loss: 0.7167\n",
      "Epoch 28/30\n",
      "312/312 [==============================] - 0s 1ms/step - loss: 0.8354\n",
      "Epoch 29/30\n",
      "312/312 [==============================] - 0s 1ms/step - loss: 0.9300\n",
      "Epoch 30/30\n",
      "312/312 [==============================] - 0s 1ms/step - loss: 0.8331\n"
     ]
    },
    {
     "data": {
      "text/plain": [
       "<keras.callbacks.callbacks.History at 0x13106a9d0>"
      ]
     },
     "execution_count": 26,
     "metadata": {},
     "output_type": "execute_result"
    }
   ],
   "source": [
    "model = createModel(8, 8, 8, 4, (X_train.shape[1], X_train.shape[2]))\n",
    "model.fit(X_train, y_train, batch_size=8, epochs=30)\n"
   ]
  },
  {
   "cell_type": "code",
   "execution_count": 27,
   "metadata": {},
   "outputs": [],
   "source": [
    "model.save('model.h5')"
   ]
  },
  {
   "cell_type": "code",
   "execution_count": null,
   "metadata": {},
   "outputs": [],
   "source": []
  }
 ],
 "metadata": {
  "kernelspec": {
   "display_name": "py37_env",
   "language": "python",
   "name": "py37_env"
  },
  "language_info": {
   "codemirror_mode": {
    "name": "ipython",
    "version": 3
   },
   "file_extension": ".py",
   "mimetype": "text/x-python",
   "name": "python",
   "nbconvert_exporter": "python",
   "pygments_lexer": "ipython3",
   "version": "3.7.6"
  },
  "toc": {
   "base_numbering": 1,
   "nav_menu": {},
   "number_sections": true,
   "sideBar": true,
   "skip_h1_title": false,
   "title_cell": "Table of Contents",
   "title_sidebar": "Contents",
   "toc_cell": false,
   "toc_position": {},
   "toc_section_display": true,
   "toc_window_display": false
  }
 },
 "nbformat": 4,
 "nbformat_minor": 2
}
