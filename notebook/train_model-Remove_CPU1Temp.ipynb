{
 "cells": [
  {
   "cell_type": "code",
   "execution_count": 4,
   "metadata": {},
   "outputs": [],
   "source": [
    "from keras import regularizers\n",
    "from keras.models import Sequential\n",
    "from keras.layers import LSTM\n",
    "from keras.layers import Dense\n",
    "from keras.layers import Activation\n",
    "from keras.layers import Dropout\n",
    "from keras.layers import Flatten\n",
    "from keras.optimizers import Adam\n",
    "import pandas as pd\n",
    "import numpy as np\n",
    "import json\n",
    "\n",
    "def createModel(l1Nodes, l2Nodes, d1Nodes, d2Nodes, inputShape):\n",
    "    # input layer\n",
    "    lstm1 = LSTM(l1Nodes, input_shape=inputShape, return_sequences=True)\n",
    "    lstm2 = LSTM(l2Nodes, return_sequences=True)\n",
    "    flatten = Flatten()\n",
    "    dense1 = Dense(d1Nodes)\n",
    "    dense2 = Dense(d2Nodes)\n",
    "\n",
    "    # output layer\n",
    "#     outL = Dense(1, activation='relu')\n",
    "    outL = Dense(1)\n",
    "    # combine the layers\n",
    "    layers = [lstm1, lstm2, flatten,  dense1, dense2, outL]\n",
    "    # create the model\n",
    "    model = Sequential(layers)\n",
    "    opt = Adam(learning_rate=0.005)\n",
    "    model.compile(optimizer=opt, loss='mse')\n",
    "    return model"
   ]
  },
  {
   "cell_type": "code",
   "execution_count": 5,
   "metadata": {},
   "outputs": [],
   "source": [
    "with open(\"../data/X_train_HPCC_1_20_312.json\") as of:\n",
    "    X_train = np.array(json.load(of))\n",
    "with open(\"../data/y_train_HPCC_1_20_312.json\") as of:\n",
    "    y_train = np.array(json.load(of))\n",
    "with open(\"../data/X_test_HPCC_1_20_312.json\") as of:\n",
    "    X_test = np.array(json.load(of))\n",
    "with open(\"../data/y_test_HPCC_1_20_312.json\") as of:\n",
    "    y_test = np.array(json.load(of))    "
   ]
  },
  {
   "cell_type": "code",
   "execution_count": 9,
   "metadata": {},
   "outputs": [],
   "source": [
    "X_train = X_train[:,:,1:]\n",
    "X_test = X_test[:,:,1:]"
   ]
  },
  {
   "cell_type": "code",
   "execution_count": 10,
   "metadata": {
    "scrolled": false
   },
   "outputs": [
    {
     "name": "stdout",
     "output_type": "stream",
     "text": [
      "WARNING:tensorflow:From /Users/chau/opt/anaconda3/envs/py37_env/lib/python3.7/site-packages/keras/backend/tensorflow_backend.py:422: The name tf.global_variables is deprecated. Please use tf.compat.v1.global_variables instead.\n",
      "\n",
      "Epoch 1/30\n",
      "312/312 [==============================] - 1s 4ms/step - loss: 1744.2569\n",
      "Epoch 2/30\n",
      "312/312 [==============================] - 0s 2ms/step - loss: 160.5710\n",
      "Epoch 3/30\n",
      "312/312 [==============================] - 0s 2ms/step - loss: 58.7177\n",
      "Epoch 4/30\n",
      "312/312 [==============================] - 1s 2ms/step - loss: 40.0601\n",
      "Epoch 5/30\n",
      "312/312 [==============================] - 1s 2ms/step - loss: 34.8179\n",
      "Epoch 6/30\n",
      "312/312 [==============================] - 1s 2ms/step - loss: 31.5539\n",
      "Epoch 7/30\n",
      "312/312 [==============================] - 0s 2ms/step - loss: 29.5642\n",
      "Epoch 8/30\n",
      "312/312 [==============================] - 0s 2ms/step - loss: 25.9010\n",
      "Epoch 9/30\n",
      "312/312 [==============================] - 0s 2ms/step - loss: 24.4206\n",
      "Epoch 10/30\n",
      "312/312 [==============================] - 0s 2ms/step - loss: 23.9087\n",
      "Epoch 11/30\n",
      "312/312 [==============================] - 0s 2ms/step - loss: 20.5542\n",
      "Epoch 12/30\n",
      "312/312 [==============================] - 0s 2ms/step - loss: 21.1226\n",
      "Epoch 13/30\n",
      "312/312 [==============================] - 1s 2ms/step - loss: 18.6662\n",
      "Epoch 14/30\n",
      "312/312 [==============================] - 1s 2ms/step - loss: 18.8482\n",
      "Epoch 15/30\n",
      "312/312 [==============================] - 0s 2ms/step - loss: 19.9315\n",
      "Epoch 16/30\n",
      "312/312 [==============================] - 0s 2ms/step - loss: 19.8882\n",
      "Epoch 17/30\n",
      "312/312 [==============================] - 0s 2ms/step - loss: 20.8441\n",
      "Epoch 18/30\n",
      "312/312 [==============================] - 1s 2ms/step - loss: 18.8845\n",
      "Epoch 19/30\n",
      "312/312 [==============================] - 0s 2ms/step - loss: 18.3987\n",
      "Epoch 20/30\n",
      "312/312 [==============================] - 0s 2ms/step - loss: 19.3586\n",
      "Epoch 21/30\n",
      "312/312 [==============================] - 0s 2ms/step - loss: 16.6852\n",
      "Epoch 22/30\n",
      "312/312 [==============================] - 0s 2ms/step - loss: 15.6800\n",
      "Epoch 23/30\n",
      "312/312 [==============================] - 0s 2ms/step - loss: 17.6961\n",
      "Epoch 24/30\n",
      "312/312 [==============================] - 0s 2ms/step - loss: 19.4122\n",
      "Epoch 25/30\n",
      "312/312 [==============================] - 0s 2ms/step - loss: 16.7022\n",
      "Epoch 26/30\n",
      "312/312 [==============================] - 1s 2ms/step - loss: 17.9305\n",
      "Epoch 27/30\n",
      "312/312 [==============================] - 0s 2ms/step - loss: 17.0707\n",
      "Epoch 28/30\n",
      "312/312 [==============================] - 0s 2ms/step - loss: 20.7757\n",
      "Epoch 29/30\n",
      "312/312 [==============================] - 0s 2ms/step - loss: 19.2924\n",
      "Epoch 30/30\n",
      "312/312 [==============================] - 0s 2ms/step - loss: 15.2442\n"
     ]
    },
    {
     "data": {
      "text/plain": [
       "<keras.callbacks.callbacks.History at 0x1344d9f10>"
      ]
     },
     "execution_count": 10,
     "metadata": {},
     "output_type": "execute_result"
    }
   ],
   "source": [
    "model = createModel(8, 8, 8, 4, (X_train.shape[1], X_train.shape[2]))\n",
    "model.fit(X_train, y_train, batch_size=8, epochs=30)"
   ]
  },
  {
   "cell_type": "code",
   "execution_count": 11,
   "metadata": {},
   "outputs": [],
   "source": [
    "model.save('model_Remove_CPU1Temp.h5')"
   ]
  },
  {
   "cell_type": "code",
   "execution_count": null,
   "metadata": {},
   "outputs": [],
   "source": []
  }
 ],
 "metadata": {
  "kernelspec": {
   "display_name": "py37_env",
   "language": "python",
   "name": "py37_env"
  },
  "language_info": {
   "codemirror_mode": {
    "name": "ipython",
    "version": 3
   },
   "file_extension": ".py",
   "mimetype": "text/x-python",
   "name": "python",
   "nbconvert_exporter": "python",
   "pygments_lexer": "ipython3",
   "version": "3.7.6"
  },
  "toc": {
   "base_numbering": 1,
   "nav_menu": {},
   "number_sections": true,
   "sideBar": true,
   "skip_h1_title": false,
   "title_cell": "Table of Contents",
   "title_sidebar": "Contents",
   "toc_cell": false,
   "toc_position": {},
   "toc_section_display": true,
   "toc_window_display": false
  }
 },
 "nbformat": 4,
 "nbformat_minor": 2
}
