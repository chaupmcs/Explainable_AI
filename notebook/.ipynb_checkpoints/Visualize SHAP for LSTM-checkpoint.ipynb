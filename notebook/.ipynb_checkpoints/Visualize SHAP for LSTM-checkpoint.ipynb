{
 "cells": [
  {
   "cell_type": "code",
   "execution_count": null,
   "metadata": {},
   "outputs": [],
   "source": [
    "import json\n",
    "import numpy as np\n",
    "import pandas as pd\n",
    "\n",
    "from keras import regularizers\n",
    "from keras.models import Sequential\n",
    "from keras.layers import LSTM\n",
    "from keras.layers import Dense\n",
    "from keras.layers import Activation\n",
    "from keras.layers import Dropout\n",
    "from keras.layers import Flatten\n",
    "from keras.optimizers import Adam\n",
    "import tensorflow as tf\n",
    "from datetime import datetime \n",
    "import shap\n",
    "import matplotlib\n",
    "from matplotlib import cm\n",
    "import plotly.graph_objects as go\n",
    "import plotly.express as px\n",
    "from keras import backend as K"
   ]
  },
  {
   "cell_type": "code",
   "execution_count": null,
   "metadata": {},
   "outputs": [],
   "source": [
    "## Some helper functions\n",
    "def map2layer(x, layer):\n",
    "    feed_dict = dict(zip([model.layers[0].input], [x.copy()]))\n",
    "    return K.get_session().run(model.layers[layer].input, feed_dict)\n",
    "\n",
    "def matplotlib_to_plotly(cmap, pl_entries):\n",
    "    h = 1.0/(pl_entries-1)\n",
    "    pl_colorscale = []\n",
    "\n",
    "    for k in range(pl_entries):\n",
    "        C = list(map(np.uint8, np.array(cmap(k*h)[:3])*255))\n",
    "        pl_colorscale.append([k*h, 'rgb'+str((C[0], C[1], C[2]))])\n",
    "    return pl_colorscale\n",
    "\n",
    "\n",
    "# Create random data with numpy\n",
    "\n",
    "def plotly_LSTM_with_outliers(data, error_index_list, time_steps=20):\n",
    "    fig = go.Figure()\n",
    "    x_axis = np.linspace(1, time_steps, time_steps)\n",
    "    for i in range(len(data)):\n",
    "        data_i = data[i]\n",
    "        if i in error_index_list:\n",
    "            fig.add_trace(go.Scatter(x=x_axis, y=data_i,\n",
    "                        mode='lines',\n",
    "                        name=i, line=dict(color='red', width=1)))\n",
    "        else:\n",
    "            fig.add_trace(go.Scatter(x=x_axis, y=data_i,\n",
    "                        mode='lines',\n",
    "                        name=i, line=dict(color='black', width=1)))\n",
    "\n",
    "    fig.show()\n",
    "    \n",
    "    \n",
    "## some colors\n",
    "coolwarm_cmap = matplotlib.cm.get_cmap('coolwarm')\n",
    "coolwarm = matplotlib_to_plotly(coolwarm_cmap, 255)\n",
    "\n",
    "magma_cmap = matplotlib.cm.get_cmap('magma')\n",
    "magma = matplotlib_to_plotly(magma_cmap, 255)"
   ]
  },
  {
   "cell_type": "code",
   "execution_count": null,
   "metadata": {},
   "outputs": [],
   "source": [
    "# HPCCv1 data\n",
    "variables_name = pd.read_csv(\"../data/variables_name.csv\", header=None)\n",
    "features = variables_name.values[:,1]\n",
    "\n",
    "\n",
    "with open(\"../data/X_train_HPCC_1_20_312.json\") as of:\n",
    "    X_train = np.array(json.load(of))\n",
    "with open(\"../data/y_train_HPCC_1_20_312.json\") as of:\n",
    "    y_train = np.array(json.load(of))\n",
    "with open(\"../data/X_test_HPCC_1_20_312.json\") as of:\n",
    "    X_test = np.array(json.load(of))\n",
    "with open(\"../data/y_test_HPCC_1_20_312.json\") as of:\n",
    "    y_test = np.array(json.load(of))    "
   ]
  },
  {
   "cell_type": "code",
   "execution_count": null,
   "metadata": {},
   "outputs": [],
   "source": [
    "## Sort data by target\n",
    "train_sorted_index = np.argsort(y_train)\n",
    "X_train = X_train[train_sorted_index]\n",
    "y_train = sorted(y_train)"
   ]
  },
  {
   "cell_type": "code",
   "execution_count": null,
   "metadata": {},
   "outputs": [],
   "source": [
    "# Recreate the exact same model, including its weights and the optimizer\n",
    "model = tf.keras.models.load_model('../dump_model/model.h5')\n",
    "\n",
    "# Show the model architecture\n",
    "model.summary()"
   ]
  },
  {
   "cell_type": "code",
   "execution_count": null,
   "metadata": {},
   "outputs": [],
   "source": [
    "explainer = shap.DeepExplainer(model, X_train)\n",
    "shap_values_train = explainer.shap_values(X_train)"
   ]
  },
  {
   "cell_type": "markdown",
   "metadata": {},
   "source": [
    "# SHAP for ALL Instances"
   ]
  },
  {
   "cell_type": "code",
   "execution_count": null,
   "metadata": {},
   "outputs": [],
   "source": [
    "################# Plot AVERAGE shap values for ALL observations  #####################\n",
    "## Consider ABSOLUTE of SHAP values ##\n",
    "shap.initjs()\n",
    "shap_average_abs_value_train = np.abs(shap_values_train[0]).mean(axis=0)\n",
    "\n",
    "x_average_value_train = pd.DataFrame(data=X_train.mean(axis=0), columns = features)\n",
    "shap.force_plot(0, shap_average_abs_value_train, x_average_value_train)"
   ]
  },
  {
   "cell_type": "code",
   "execution_count": null,
   "metadata": {},
   "outputs": [],
   "source": [
    "shap_values_train_2D = shap_values_train[0].reshape(-1,10)\n",
    "X_train_2D = X_train.reshape(-1,10)\n",
    "\n",
    "shap.summary_plot(shap_values_train_2D, X_train_2D, features)"
   ]
  },
  {
   "cell_type": "markdown",
   "metadata": {},
   "source": [
    "# Explain for each instance (input layer)"
   ]
  },
  {
   "cell_type": "code",
   "execution_count": null,
   "metadata": {
    "scrolled": true
   },
   "outputs": [],
   "source": [
    "import seaborn as sns\n",
    "import matplotlib.pyplot as plt\n",
    "\n",
    "vmin, vmax = shap_values_train[0].min(), shap_values_train[0].max()\n",
    "\n",
    "for i, feature in enumerate(features):\n",
    "    print(feature)\n",
    "\n",
    "    plt.figure(figsize = (8,6)) \n",
    "    tmp = shap_values_train[0][:,:,i].reshape((-1,20))\n",
    "    print(tmp.shape)\n",
    "    plot_shap = sns.heatmap(tmp, cmap=\"coolwarm\", vmin= vmin, vmax=vmax)\n",
    "    plt.show(plot_shap)\n",
    "    print(\"-----------\")"
   ]
  },
  {
   "cell_type": "markdown",
   "metadata": {},
   "source": [
    "Some Comments\n",
    "\n",
    "- CPU1 Temp: Light color at early time steps. It starts bolder from 10th to 18th steps => These steps play an important role in prediction. (recall that output is the sum of 20*10 importance scores)\n",
    "- Other features seem contribute slightly on the output."
   ]
  },
  {
   "cell_type": "code",
   "execution_count": null,
   "metadata": {},
   "outputs": [],
   "source": [
    "## Print layers'shape\n",
    "from keras import backend as K\n",
    "\n",
    "inp = model.input                                           # input placeholder\n",
    "outputs = [layer.output for layer in model.layers]          # all layer outputs\n",
    "functors = [K.function([inp], [out]) for out in outputs]    # evaluation functions\n",
    "\n",
    "# Testing\n",
    "layer_outs = [func([X_train]) for func in functors]\n",
    "\n",
    "for i in range(len(layer_outs)):\n",
    "    print(layer_outs[i][0].shape)"
   ]
  },
  {
   "cell_type": "markdown",
   "metadata": {},
   "source": [
    "# Explain for LSTM layers"
   ]
  },
  {
   "cell_type": "code",
   "execution_count": null,
   "metadata": {
    "scrolled": true
   },
   "outputs": [],
   "source": [
    "# explain how the input to the ith layer of the model explains the prediction\n",
    "\n",
    "for i in range(1, 3):\n",
    "    layer = i\n",
    "    e = shap.DeepExplainer((model.layers[layer].input, model.layers[-1].output), map2layer(X_train.copy(), layer), )\n",
    "    shap_values_i, indexes = e.shap_values(map2layer(X_train, layer), ranked_outputs = 1)\n",
    "    \n",
    "    vmin, vmax = shap_values_i[0].min(), shap_values_i[0].max()\n",
    "    print(\"====================\")\n",
    "    print(\"===== Layer {} =====\".format(i))\n",
    "    print(\"shap values shape =\", shap_values_i[0].shape)\n",
    "    for j in range(shap_values_i[0].shape[-1]):\n",
    "        print(\"Node {}\".format(j+1))\n",
    "        plt.figure(figsize = (8,6)) \n",
    "        tmp = shap_values_i[0][:,:,j].reshape((-1,20))\n",
    "        print(tmp.shape)\n",
    "        plot_shap = sns.heatmap(tmp, cmap=\"coolwarm\", vmin= vmin, vmax=vmax)        \n",
    "        plt.show(plot_shap)\n",
    "        print(\"-----------\")\n",
    "    print(\"-----------------------\\n\\n\") "
   ]
  },
  {
   "cell_type": "markdown",
   "metadata": {},
   "source": [
    "# Explain for Dense Layers"
   ]
  },
  {
   "cell_type": "code",
   "execution_count": null,
   "metadata": {
    "scrolled": true
   },
   "outputs": [],
   "source": [
    "for i in range(4,len(layer_outs)):\n",
    "    layer = i\n",
    "    e = shap.DeepExplainer((model.layers[layer].input, model.layers[-1].output), map2layer(X_train.copy(), layer), )\n",
    "    shap_values_i, indexes = e.shap_values(map2layer(X_train, layer), ranked_outputs = 1)\n",
    "    shap_values_i[0].shape\n",
    "\n",
    "    print(\"====================\")\n",
    "    print(\"====== Layer {} =====\".format(i))\n",
    "    print(\"shap values shape =\", shap_values_i[0].shape)\n",
    "    for j in range(shap_values_i[0].shape[-1]):\n",
    "        print(\"Node {}\".format(j+1))\n",
    "        \n",
    "        plt.figure(figsize = (8,6)) \n",
    "        tmp = shap_values_i[0][:,j].reshape(len(X_train))\n",
    "        tmp_df = pd.DataFrame(data=[tmp, y_train])\n",
    "        tmp_df = tmp_df.transpose()\n",
    "        tmp_df.columns = [\"shap_value\", \"label\"]\n",
    "#         tmp_df.sort_values(\"label\", inplace=True)\n",
    "        tmp_df[\"No.\"] = range(1, len(tmp_df)+1)\n",
    "\n",
    "        tmp_1 = tmp_df[[\"shap_value\", \"No.\"]].copy()\n",
    "        tmp_2 = tmp_df[[\"label\", \"No.\"]].copy()\n",
    "\n",
    "        tmp_1.columns = [\"value\", \"No.\"]\n",
    "        tmp_1[\"type\"] = \"shape_value\"\n",
    "        tmp_2.columns = [\"value\", \"No.\"]\n",
    "        tmp_2[\"type\"] = \"label\"\n",
    "\n",
    "        tmp_full = pd.concat([tmp_1, tmp_2])\n",
    "        \n",
    "        plot_shap = sns.scatterplot(x=\"No.\", y=\"value\", data=tmp_full, hue=\"type\")\n",
    "        plt.show(plot_shap)\n",
    "        print(\"-----------------------\\n\\n\") "
   ]
  },
  {
   "cell_type": "markdown",
   "metadata": {},
   "source": [
    "# Prediction vs Label on Train set"
   ]
  },
  {
   "cell_type": "code",
   "execution_count": null,
   "metadata": {},
   "outputs": [],
   "source": [
    "y_pred = model.predict(X_train)\n",
    "\n",
    "tmp_df = pd.DataFrame(data=[y_pred[:,0], y_train])\n",
    "tmp_df = tmp_df.transpose()\n",
    "tmp_df.columns = [\"prediction\", \"label\"]\n",
    "tmp_df[\"No.\"] = range(1, len(tmp_df)+1)\n",
    "\n",
    "tmp_df[\"error (%)\"] = np.round (np.abs((tmp_df.label - tmp_df.prediction)*100/tmp_df.label), 2)\n",
    "tmp_df"
   ]
  },
  {
   "cell_type": "code",
   "execution_count": null,
   "metadata": {},
   "outputs": [],
   "source": [
    "tmp_df[\"error (%)\"].describe([i*.05 for i in range(20)] + [.97,.98,.985,.99])"
   ]
  },
  {
   "cell_type": "code",
   "execution_count": null,
   "metadata": {},
   "outputs": [],
   "source": [
    "tmp_1 = tmp_df[[\"prediction\", \"No.\", \"error (%)\"]].copy()\n",
    "tmp_2 = tmp_df[[\"label\", \"No.\", \"error (%)\"]].copy()\n",
    "\n",
    "tmp_1.columns = [\"value\", \"No.\", \"error (%)\"]\n",
    "tmp_1[\"type\"] = \"prediction\"\n",
    "tmp_2.columns = [\"value\", \"No.\", \"error (%)\"]\n",
    "tmp_2[\"type\"] = \"label\"\n",
    "\n",
    "tmp_full = pd.concat([tmp_1, tmp_2])"
   ]
  },
  {
   "cell_type": "code",
   "execution_count": null,
   "metadata": {},
   "outputs": [],
   "source": [
    "error_thres = 3"
   ]
  },
  {
   "cell_type": "code",
   "execution_count": null,
   "metadata": {},
   "outputs": [],
   "source": [
    "fig = px.scatter(tmp_full, x=\"No.\", y=\"value\", color=\"type\",\n",
    "                 size='error (%)', hover_data=['error (%)'], opacity=0.6,  \n",
    "                 color_discrete_map = {\"prediction\": \"blue\", \"label\": \"black\"})\n",
    "fig.show()"
   ]
  },
  {
   "cell_type": "code",
   "execution_count": null,
   "metadata": {},
   "outputs": [],
   "source": [
    "tmp_full[\"type\"]  = tmp_full.apply(lambda x: \"big error\" if ((x['error (%)'] > error_thres) & (x['type'] == 'prediction')) else x[\"type\"], 1)\n",
    "fig = px.scatter(tmp_full, x=\"No.\", y=\"value\", color=\"type\",\n",
    "                 hover_data=['error (%)'], opacity=0.4,\n",
    "                 color_discrete_map = {\"prediction\": \"blue\", \"label\": \"black\", \"big error\": \"red\"})\n",
    "fig.show()"
   ]
  },
  {
   "cell_type": "code",
   "execution_count": null,
   "metadata": {},
   "outputs": [],
   "source": [
    "tmp_full.to_csv(\"./prediction.csv\")\n",
    "tmp_full"
   ]
  },
  {
   "cell_type": "code",
   "execution_count": null,
   "metadata": {},
   "outputs": [],
   "source": [
    "# tmp_full  = pd.read_csv(\"./prediction.csv\")"
   ]
  },
  {
   "cell_type": "code",
   "execution_count": null,
   "metadata": {},
   "outputs": [],
   "source": [
    "error_index_list= list(tmp_full[tmp_full.type == \"big error\"].index)"
   ]
  },
  {
   "cell_type": "markdown",
   "metadata": {},
   "source": [
    "# Show outliers"
   ]
  },
  {
   "cell_type": "markdown",
   "metadata": {},
   "source": [
    "## Input"
   ]
  },
  {
   "cell_type": "code",
   "execution_count": null,
   "metadata": {
    "scrolled": true
   },
   "outputs": [],
   "source": [
    "for i, feature in enumerate(features):\n",
    "    print(feature)\n",
    "\n",
    "    plt.figure(figsize = (8,6)) \n",
    "    tmp = shap_values_train[0][:,:,i].reshape((-1,20))\n",
    "    print(tmp.shape)\n",
    "    plotly_LSTM_with_outliers(tmp, error_index_list)\n",
    "    print(\"-----------\")"
   ]
  },
  {
   "cell_type": "markdown",
   "metadata": {},
   "source": [
    "## LSTM"
   ]
  },
  {
   "cell_type": "code",
   "execution_count": null,
   "metadata": {},
   "outputs": [],
   "source": [
    "for i in range(1, 3):\n",
    "    layer = i\n",
    "    e = shap.DeepExplainer((model.layers[layer].input, model.layers[-1].output), map2layer(X_train.copy(), layer), )\n",
    "    shap_values_i, indexes = e.shap_values(map2layer(X_train, layer), ranked_outputs = 1)\n",
    "    \n",
    "    print(\"====================\")\n",
    "    print(\"===== Layer {} =====\".format(i))\n",
    "    print(\"shap values shape =\", shap_values_i[0].shape)\n",
    "    for j in range(shap_values_i[0].shape[-1]):\n",
    "        print(\"Node {}\".format(j+1))\n",
    "        plt.figure(figsize = (8,6)) \n",
    "        tmp = shap_values_i[0][:,:,j].reshape((-1,20))\n",
    "        print(tmp.shape)\n",
    "        plotly_LSTM_with_outliers(tmp, error_index_list)\n",
    "        print(\"-----------\")\n",
    "    print(\"-----------------------\\n\\n\") "
   ]
  },
  {
   "cell_type": "markdown",
   "metadata": {},
   "source": [
    "## Dense"
   ]
  },
  {
   "cell_type": "code",
   "execution_count": null,
   "metadata": {
    "scrolled": true
   },
   "outputs": [],
   "source": [
    "for i in range(4,len(layer_outs)):\n",
    "    layer = i\n",
    "    e = shap.DeepExplainer((model.layers[layer].input, model.layers[-1].output), map2layer(X_train.copy(), layer), )\n",
    "    shap_values_i, indexes = e.shap_values(map2layer(X_train, layer), ranked_outputs = 1)\n",
    "    shap_values_i[0].shape\n",
    "\n",
    "    print(\"====================\")\n",
    "    print(\"====== Layer {} =====\".format(i))\n",
    "    print(\"shap values shape =\", shap_values_i[0].shape)\n",
    "    for j in range(shap_values_i[0].shape[-1]):\n",
    "        print(\"Node {}\".format(j+1))\n",
    "        \n",
    "        \n",
    "        tmp = shap_values_i[0][:,j].reshape(len(X_train))\n",
    "        tmp_df = pd.DataFrame(data=[tmp, y_train])\n",
    "        tmp_df = tmp_df.transpose()\n",
    "        tmp_df.columns = [\"shap_value\", \"label\"]\n",
    "#         tmp_df.sort_values(\"label\", inplace=True)\n",
    "        tmp_df[\"No.\"] = range(1, len(tmp_df)+1)\n",
    "\n",
    "\n",
    "        tmp_1 = tmp_df[[\"shap_value\", \"No.\"]].copy()\n",
    "        tmp_2 = tmp_df[[\"label\", \"No.\"]].copy()\n",
    "\n",
    "        tmp_1.columns = [\"value\", \"No.\"]\n",
    "        tmp_1[\"type\"] = \"shap_value\"\n",
    "        tmp_2.columns = [\"value\", \"No.\"]\n",
    "        tmp_2[\"type\"] = \"label\"\n",
    "\n",
    "        tmp_1.loc[error_index_list, \"type\"]  = \"big error\"\n",
    "        tmp_full = pd.concat([tmp_1, tmp_2])\n",
    "\n",
    "        fig = px.scatter(tmp_full, x=\"No.\", y=\"value\", color=\"type\",\n",
    "                  opacity=0.6,\n",
    "                 color_discrete_map = {\"shap_value\": \"blue\", \"label\": \"black\", \"big error\": \"red\"})\n",
    "        fig.show()\n",
    "\n",
    "        print(\"-----------------------\\n\\n\") "
   ]
  },
  {
   "cell_type": "code",
   "execution_count": null,
   "metadata": {},
   "outputs": [],
   "source": [
    "print(\"Last updated: \", datetime.now())"
   ]
  }
 ],
 "metadata": {
  "kernelspec": {
   "display_name": "py37_env",
   "language": "python",
   "name": "py37_env"
  },
  "language_info": {
   "codemirror_mode": {
    "name": "ipython",
    "version": 3
   },
   "file_extension": ".py",
   "mimetype": "text/x-python",
   "name": "python",
   "nbconvert_exporter": "python",
   "pygments_lexer": "ipython3",
   "version": "3.7.6"
  },
  "toc": {
   "base_numbering": 1,
   "nav_menu": {},
   "number_sections": true,
   "sideBar": true,
   "skip_h1_title": false,
   "title_cell": "Table of Contents",
   "title_sidebar": "Contents",
   "toc_cell": false,
   "toc_position": {},
   "toc_section_display": true,
   "toc_window_display": true
  }
 },
 "nbformat": 4,
 "nbformat_minor": 2
}
